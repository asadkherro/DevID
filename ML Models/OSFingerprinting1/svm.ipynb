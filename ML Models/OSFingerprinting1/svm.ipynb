{
 "cells": [
  {
   "cell_type": "code",
   "execution_count": 2,
   "metadata": {},
   "outputs": [],
   "source": [
    "#LIBRARIES\n",
    "import pandas as pd  ## data manipulation\n",
    "import numpy as np  ## mathematical Calculations\n",
    "\n",
    "import seaborn as sns   ## for advance visualization\n",
    "import matplotlib.pyplot as plt   ## for visualization\n",
    "\n",
    "import scipy as sp\n",
    "import os\n",
    "\n",
    "from matplotlib import figure\n",
    "\n",
    "## preprocessing modules\n",
    "from sklearn.model_selection import train_test_split\n",
    "from sklearn.preprocessing import StandardScaler  ### for scaling\n",
    "from sklearn.metrics import accuracy_score\n",
    "from sklearn.preprocessing import LabelEncoder  ### for converting categorical values in numerical\n",
    "from sklearn.ensemble import RandomForestClassifier\n",
    "from sklearn.svm import SVC\n",
    "from sklearn.linear_model import LogisticRegression\n",
    "\n",
    "import joblib"
   ]
  },
  {
   "cell_type": "code",
   "execution_count": 3,
   "metadata": {},
   "outputs": [],
   "source": [
    "df = pd.read_csv('cleansed_anno_sessions_2.csv')\n",
    "df.drop(columns=[\"ID\", 'start', 'end', 'IP', 'Unnamed: 18'], axis=1, inplace=True)"
   ]
  },
  {
   "cell_type": "code",
   "execution_count": 4,
   "metadata": {},
   "outputs": [
    {
     "name": "stdout",
     "output_type": "stream",
     "text": [
      "<class 'pandas.core.frame.DataFrame'>\n",
      "RangeIndex: 253373 entries, 0 to 253372\n",
      "Data columns (total 15 columns):\n",
      " #   Column           Non-Null Count   Dtype \n",
      "---  ------           --------------   ----- \n",
      " 0   UA_Vendor        253373 non-null  object\n",
      " 1   UA_OS_name       253373 non-null  object\n",
      " 2   UA_major         253373 non-null  int64 \n",
      " 3   UA_minor         253373 non-null  int64 \n",
      " 4   TCP_Vendor       253373 non-null  object\n",
      " 5   TCP_OS_name      253373 non-null  object\n",
      " 6   TCP_major        253373 non-null  int64 \n",
      " 7   TCP_minor        253373 non-null  int64 \n",
      " 8   Domain_Vendor    253373 non-null  object\n",
      " 9   Domain_OS_name   253373 non-null  object\n",
      " 10  DHCP_Vendor      253373 non-null  object\n",
      " 11  DHCP_OS_name     253373 non-null  object\n",
      " 12  Final_OS         253373 non-null  object\n",
      " 13  Mac prefix       253373 non-null  object\n",
      " 14  Device_Category  253373 non-null  object\n",
      "dtypes: int64(4), object(11)\n",
      "memory usage: 29.0+ MB\n"
     ]
    }
   ],
   "source": [
    "df.info()"
   ]
  },
  {
   "cell_type": "code",
   "execution_count": 5,
   "metadata": {},
   "outputs": [
    {
     "data": {
      "text/plain": [
       "87097"
      ]
     },
     "execution_count": 5,
     "metadata": {},
     "output_type": "execute_result"
    }
   ],
   "source": [
    "#0 value in UA Vendor Column\n",
    "df[df['UA_Vendor']=='0'].value_counts().sum()"
   ]
  },
  {
   "cell_type": "code",
   "execution_count": 6,
   "metadata": {},
   "outputs": [
    {
     "data": {
      "text/plain": [
       "53735"
      ]
     },
     "execution_count": 6,
     "metadata": {},
     "output_type": "execute_result"
    }
   ],
   "source": [
    "df[df['Domain_OS_name']=='0'].value_counts().sum()"
   ]
  },
  {
   "cell_type": "code",
   "execution_count": 7,
   "metadata": {},
   "outputs": [
    {
     "data": {
      "text/html": [
       "<div>\n",
       "<style scoped>\n",
       "    .dataframe tbody tr th:only-of-type {\n",
       "        vertical-align: middle;\n",
       "    }\n",
       "\n",
       "    .dataframe tbody tr th {\n",
       "        vertical-align: top;\n",
       "    }\n",
       "\n",
       "    .dataframe thead th {\n",
       "        text-align: right;\n",
       "    }\n",
       "</style>\n",
       "<table border=\"1\" class=\"dataframe\">\n",
       "  <thead>\n",
       "    <tr style=\"text-align: right;\">\n",
       "      <th></th>\n",
       "      <th>UA_Vendor</th>\n",
       "      <th>UA_OS_name</th>\n",
       "      <th>UA_major</th>\n",
       "      <th>UA_minor</th>\n",
       "      <th>TCP_Vendor</th>\n",
       "      <th>TCP_OS_name</th>\n",
       "      <th>TCP_major</th>\n",
       "      <th>TCP_minor</th>\n",
       "      <th>Domain_Vendor</th>\n",
       "      <th>Domain_OS_name</th>\n",
       "      <th>DHCP_Vendor</th>\n",
       "      <th>DHCP_OS_name</th>\n",
       "      <th>Final_OS</th>\n",
       "      <th>Mac prefix</th>\n",
       "      <th>Device_Category</th>\n",
       "    </tr>\n",
       "  </thead>\n",
       "  <tbody>\n",
       "    <tr>\n",
       "      <th>2</th>\n",
       "      <td>Google</td>\n",
       "      <td>Android</td>\n",
       "      <td>5</td>\n",
       "      <td>1</td>\n",
       "      <td>Google</td>\n",
       "      <td>Android</td>\n",
       "      <td>6</td>\n",
       "      <td>0</td>\n",
       "      <td>Google</td>\n",
       "      <td>Android</td>\n",
       "      <td>Google</td>\n",
       "      <td>Android</td>\n",
       "      <td>Android 5.1</td>\n",
       "      <td>98:0c:a5</td>\n",
       "      <td>Mobile Phone</td>\n",
       "    </tr>\n",
       "    <tr>\n",
       "      <th>5</th>\n",
       "      <td>Google</td>\n",
       "      <td>Android</td>\n",
       "      <td>4</td>\n",
       "      <td>4</td>\n",
       "      <td>Microsoft</td>\n",
       "      <td>Windows</td>\n",
       "      <td>6</td>\n",
       "      <td>1</td>\n",
       "      <td>Google</td>\n",
       "      <td>Android</td>\n",
       "      <td>Google</td>\n",
       "      <td>Android</td>\n",
       "      <td>Android 4.4</td>\n",
       "      <td>fc:64:ba</td>\n",
       "      <td>PC</td>\n",
       "    </tr>\n",
       "    <tr>\n",
       "      <th>6</th>\n",
       "      <td>Google</td>\n",
       "      <td>Android</td>\n",
       "      <td>6</td>\n",
       "      <td>0</td>\n",
       "      <td>Google</td>\n",
       "      <td>Android</td>\n",
       "      <td>6</td>\n",
       "      <td>0</td>\n",
       "      <td>Google</td>\n",
       "      <td>Android</td>\n",
       "      <td>Google</td>\n",
       "      <td>Android</td>\n",
       "      <td>Android 6.0</td>\n",
       "      <td>88:ad:d2</td>\n",
       "      <td>Mobile Phone</td>\n",
       "    </tr>\n",
       "    <tr>\n",
       "      <th>8</th>\n",
       "      <td>Google</td>\n",
       "      <td>Android</td>\n",
       "      <td>5</td>\n",
       "      <td>1</td>\n",
       "      <td>Google</td>\n",
       "      <td>Android</td>\n",
       "      <td>6</td>\n",
       "      <td>0</td>\n",
       "      <td>Google</td>\n",
       "      <td>Android</td>\n",
       "      <td>Google</td>\n",
       "      <td>Android</td>\n",
       "      <td>Android 5.1</td>\n",
       "      <td>90:21:81</td>\n",
       "      <td>Mobile Phone</td>\n",
       "    </tr>\n",
       "    <tr>\n",
       "      <th>9</th>\n",
       "      <td>Apple</td>\n",
       "      <td>iOS</td>\n",
       "      <td>0</td>\n",
       "      <td>0</td>\n",
       "      <td>Apple</td>\n",
       "      <td>Mac OS X</td>\n",
       "      <td>10</td>\n",
       "      <td>12</td>\n",
       "      <td>Apple</td>\n",
       "      <td>Mac OS X</td>\n",
       "      <td>Apple</td>\n",
       "      <td>iOS</td>\n",
       "      <td>Mac OS X 10.12</td>\n",
       "      <td>cc:29:f5</td>\n",
       "      <td>MAC</td>\n",
       "    </tr>\n",
       "    <tr>\n",
       "      <th>...</th>\n",
       "      <td>...</td>\n",
       "      <td>...</td>\n",
       "      <td>...</td>\n",
       "      <td>...</td>\n",
       "      <td>...</td>\n",
       "      <td>...</td>\n",
       "      <td>...</td>\n",
       "      <td>...</td>\n",
       "      <td>...</td>\n",
       "      <td>...</td>\n",
       "      <td>...</td>\n",
       "      <td>...</td>\n",
       "      <td>...</td>\n",
       "      <td>...</td>\n",
       "      <td>...</td>\n",
       "    </tr>\n",
       "    <tr>\n",
       "      <th>253364</th>\n",
       "      <td>Apple</td>\n",
       "      <td>iOS</td>\n",
       "      <td>10</td>\n",
       "      <td>0</td>\n",
       "      <td>Apple</td>\n",
       "      <td>Mac OS X</td>\n",
       "      <td>10</td>\n",
       "      <td>12</td>\n",
       "      <td>Apple</td>\n",
       "      <td>Mac OS X</td>\n",
       "      <td>Apple</td>\n",
       "      <td>iOS</td>\n",
       "      <td>Mac OS X 10.12</td>\n",
       "      <td>b8:44:d9</td>\n",
       "      <td>MAC</td>\n",
       "    </tr>\n",
       "    <tr>\n",
       "      <th>253365</th>\n",
       "      <td>Google</td>\n",
       "      <td>Android</td>\n",
       "      <td>5</td>\n",
       "      <td>1</td>\n",
       "      <td>Google</td>\n",
       "      <td>Android</td>\n",
       "      <td>6</td>\n",
       "      <td>0</td>\n",
       "      <td>Google</td>\n",
       "      <td>Android</td>\n",
       "      <td>Google</td>\n",
       "      <td>Android</td>\n",
       "      <td>Android 5.1</td>\n",
       "      <td>68:3e:34</td>\n",
       "      <td>Mobile Phone</td>\n",
       "    </tr>\n",
       "    <tr>\n",
       "      <th>253368</th>\n",
       "      <td>Google</td>\n",
       "      <td>Android</td>\n",
       "      <td>4</td>\n",
       "      <td>4</td>\n",
       "      <td>Google</td>\n",
       "      <td>Android</td>\n",
       "      <td>4</td>\n",
       "      <td>4</td>\n",
       "      <td>Google</td>\n",
       "      <td>Android</td>\n",
       "      <td>Google</td>\n",
       "      <td>Android</td>\n",
       "      <td>Android 4.4</td>\n",
       "      <td>64:a6:51</td>\n",
       "      <td>Mobile Phone</td>\n",
       "    </tr>\n",
       "    <tr>\n",
       "      <th>253371</th>\n",
       "      <td>Apple</td>\n",
       "      <td>Darwin</td>\n",
       "      <td>15</td>\n",
       "      <td>6</td>\n",
       "      <td>Apple</td>\n",
       "      <td>Mac OS X</td>\n",
       "      <td>10</td>\n",
       "      <td>12</td>\n",
       "      <td>Apple</td>\n",
       "      <td>Mac OS X</td>\n",
       "      <td>Apple</td>\n",
       "      <td>iOS</td>\n",
       "      <td>Mac OS X 10.12</td>\n",
       "      <td>c0:9f:42</td>\n",
       "      <td>MAC</td>\n",
       "    </tr>\n",
       "    <tr>\n",
       "      <th>253372</th>\n",
       "      <td>Google</td>\n",
       "      <td>Android</td>\n",
       "      <td>5</td>\n",
       "      <td>0</td>\n",
       "      <td>Google</td>\n",
       "      <td>Android</td>\n",
       "      <td>6</td>\n",
       "      <td>0</td>\n",
       "      <td>Google</td>\n",
       "      <td>Android</td>\n",
       "      <td>Google</td>\n",
       "      <td>Android</td>\n",
       "      <td>Android 5.0</td>\n",
       "      <td>34:fc:ef</td>\n",
       "      <td>Mobile Phone</td>\n",
       "    </tr>\n",
       "  </tbody>\n",
       "</table>\n",
       "<p>113435 rows × 15 columns</p>\n",
       "</div>"
      ],
      "text/plain": [
       "       UA_Vendor UA_OS_name  UA_major  UA_minor TCP_Vendor TCP_OS_name  \\\n",
       "2         Google    Android         5         1     Google     Android   \n",
       "5         Google    Android         4         4  Microsoft     Windows   \n",
       "6         Google    Android         6         0     Google     Android   \n",
       "8         Google    Android         5         1     Google     Android   \n",
       "9          Apple        iOS         0         0      Apple    Mac OS X   \n",
       "...          ...        ...       ...       ...        ...         ...   \n",
       "253364     Apple        iOS        10         0      Apple    Mac OS X   \n",
       "253365    Google    Android         5         1     Google     Android   \n",
       "253368    Google    Android         4         4     Google     Android   \n",
       "253371     Apple     Darwin        15         6      Apple    Mac OS X   \n",
       "253372    Google    Android         5         0     Google     Android   \n",
       "\n",
       "        TCP_major  TCP_minor Domain_Vendor Domain_OS_name DHCP_Vendor  \\\n",
       "2               6          0        Google        Android      Google   \n",
       "5               6          1        Google        Android      Google   \n",
       "6               6          0        Google        Android      Google   \n",
       "8               6          0        Google        Android      Google   \n",
       "9              10         12         Apple       Mac OS X       Apple   \n",
       "...           ...        ...           ...            ...         ...   \n",
       "253364         10         12         Apple       Mac OS X       Apple   \n",
       "253365          6          0        Google        Android      Google   \n",
       "253368          4          4        Google        Android      Google   \n",
       "253371         10         12         Apple       Mac OS X       Apple   \n",
       "253372          6          0        Google        Android      Google   \n",
       "\n",
       "       DHCP_OS_name        Final_OS Mac prefix Device_Category  \n",
       "2           Android     Android 5.1   98:0c:a5    Mobile Phone  \n",
       "5           Android     Android 4.4   fc:64:ba              PC  \n",
       "6           Android     Android 6.0   88:ad:d2    Mobile Phone  \n",
       "8           Android     Android 5.1   90:21:81    Mobile Phone  \n",
       "9               iOS  Mac OS X 10.12   cc:29:f5             MAC  \n",
       "...             ...             ...        ...             ...  \n",
       "253364          iOS  Mac OS X 10.12   b8:44:d9             MAC  \n",
       "253365      Android     Android 5.1   68:3e:34    Mobile Phone  \n",
       "253368      Android     Android 4.4   64:a6:51    Mobile Phone  \n",
       "253371          iOS  Mac OS X 10.12   c0:9f:42             MAC  \n",
       "253372      Android     Android 5.0   34:fc:ef    Mobile Phone  \n",
       "\n",
       "[113435 rows x 15 columns]"
      ]
     },
     "execution_count": 7,
     "metadata": {},
     "output_type": "execute_result"
    }
   ],
   "source": [
    "new_df = df[(df != '0').all(axis=1)]\n",
    "new_df"
   ]
  },
  {
   "cell_type": "code",
   "execution_count": 8,
   "metadata": {},
   "outputs": [
    {
     "data": {
      "text/plain": [
       "0"
      ]
     },
     "execution_count": 8,
     "metadata": {},
     "output_type": "execute_result"
    }
   ],
   "source": [
    "#0 value in UA Vendor Column\n",
    "new_df[new_df['UA_Vendor']=='0'].value_counts().sum()"
   ]
  },
  {
   "cell_type": "code",
   "execution_count": 9,
   "metadata": {},
   "outputs": [
    {
     "data": {
      "text/plain": [
       "67109"
      ]
     },
     "execution_count": 9,
     "metadata": {},
     "output_type": "execute_result"
    }
   ],
   "source": [
    "#0 value in UA Vendor Column\n",
    "new_df[new_df['TCP_minor']==0.0].value_counts().sum()"
   ]
  },
  {
   "cell_type": "code",
   "execution_count": 10,
   "metadata": {},
   "outputs": [
    {
     "data": {
      "text/plain": [
       "3.5388812976594526"
      ]
     },
     "execution_count": 10,
     "metadata": {},
     "output_type": "execute_result"
    }
   ],
   "source": [
    "new_df['TCP_minor'].mean()"
   ]
  },
  {
   "cell_type": "code",
   "execution_count": 11,
   "metadata": {},
   "outputs": [
    {
     "data": {
      "text/html": [
       "<div>\n",
       "<style scoped>\n",
       "    .dataframe tbody tr th:only-of-type {\n",
       "        vertical-align: middle;\n",
       "    }\n",
       "\n",
       "    .dataframe tbody tr th {\n",
       "        vertical-align: top;\n",
       "    }\n",
       "\n",
       "    .dataframe thead th {\n",
       "        text-align: right;\n",
       "    }\n",
       "</style>\n",
       "<table border=\"1\" class=\"dataframe\">\n",
       "  <thead>\n",
       "    <tr style=\"text-align: right;\">\n",
       "      <th></th>\n",
       "      <th>UA_Vendor</th>\n",
       "      <th>UA_OS_name</th>\n",
       "      <th>UA_major</th>\n",
       "      <th>UA_minor</th>\n",
       "      <th>TCP_Vendor</th>\n",
       "      <th>TCP_OS_name</th>\n",
       "      <th>TCP_major</th>\n",
       "      <th>TCP_minor</th>\n",
       "      <th>Domain_Vendor</th>\n",
       "      <th>Domain_OS_name</th>\n",
       "      <th>DHCP_Vendor</th>\n",
       "      <th>DHCP_OS_name</th>\n",
       "      <th>Final_OS</th>\n",
       "      <th>Mac prefix</th>\n",
       "      <th>Device_Category</th>\n",
       "    </tr>\n",
       "  </thead>\n",
       "  <tbody>\n",
       "    <tr>\n",
       "      <th>5</th>\n",
       "      <td>Google</td>\n",
       "      <td>Android</td>\n",
       "      <td>4</td>\n",
       "      <td>4</td>\n",
       "      <td>Microsoft</td>\n",
       "      <td>Windows</td>\n",
       "      <td>6</td>\n",
       "      <td>1</td>\n",
       "      <td>Google</td>\n",
       "      <td>Android</td>\n",
       "      <td>Google</td>\n",
       "      <td>Android</td>\n",
       "      <td>Android 4.4</td>\n",
       "      <td>fc:64:ba</td>\n",
       "      <td>PC</td>\n",
       "    </tr>\n",
       "    <tr>\n",
       "      <th>10</th>\n",
       "      <td>Google</td>\n",
       "      <td>Android</td>\n",
       "      <td>4</td>\n",
       "      <td>4</td>\n",
       "      <td>Google</td>\n",
       "      <td>Android</td>\n",
       "      <td>4</td>\n",
       "      <td>4</td>\n",
       "      <td>Google</td>\n",
       "      <td>Android</td>\n",
       "      <td>Google</td>\n",
       "      <td>Android</td>\n",
       "      <td>Android 4.4</td>\n",
       "      <td>74:04:2b</td>\n",
       "      <td>Mobile Phone</td>\n",
       "    </tr>\n",
       "    <tr>\n",
       "      <th>33</th>\n",
       "      <td>Google</td>\n",
       "      <td>Android</td>\n",
       "      <td>4</td>\n",
       "      <td>4</td>\n",
       "      <td>Microsoft</td>\n",
       "      <td>Windows</td>\n",
       "      <td>6</td>\n",
       "      <td>1</td>\n",
       "      <td>Google</td>\n",
       "      <td>Android</td>\n",
       "      <td>Google</td>\n",
       "      <td>Android</td>\n",
       "      <td>Android 4.4</td>\n",
       "      <td>20:55:31</td>\n",
       "      <td>PC</td>\n",
       "    </tr>\n",
       "    <tr>\n",
       "      <th>36</th>\n",
       "      <td>Apple</td>\n",
       "      <td>iOS</td>\n",
       "      <td>10</td>\n",
       "      <td>3</td>\n",
       "      <td>Apple</td>\n",
       "      <td>Mac OS X</td>\n",
       "      <td>10</td>\n",
       "      <td>12</td>\n",
       "      <td>Apple</td>\n",
       "      <td>Mac OS X</td>\n",
       "      <td>Apple</td>\n",
       "      <td>iOS</td>\n",
       "      <td>Mac OS X 10.12</td>\n",
       "      <td>28:ed:6a</td>\n",
       "      <td>MAC</td>\n",
       "    </tr>\n",
       "    <tr>\n",
       "      <th>91</th>\n",
       "      <td>Google</td>\n",
       "      <td>Android</td>\n",
       "      <td>4</td>\n",
       "      <td>4</td>\n",
       "      <td>Microsoft</td>\n",
       "      <td>Windows</td>\n",
       "      <td>6</td>\n",
       "      <td>1</td>\n",
       "      <td>Google</td>\n",
       "      <td>Android</td>\n",
       "      <td>Google</td>\n",
       "      <td>Android</td>\n",
       "      <td>Android 4.4</td>\n",
       "      <td>64:89:9a</td>\n",
       "      <td>PC</td>\n",
       "    </tr>\n",
       "    <tr>\n",
       "      <th>...</th>\n",
       "      <td>...</td>\n",
       "      <td>...</td>\n",
       "      <td>...</td>\n",
       "      <td>...</td>\n",
       "      <td>...</td>\n",
       "      <td>...</td>\n",
       "      <td>...</td>\n",
       "      <td>...</td>\n",
       "      <td>...</td>\n",
       "      <td>...</td>\n",
       "      <td>...</td>\n",
       "      <td>...</td>\n",
       "      <td>...</td>\n",
       "      <td>...</td>\n",
       "      <td>...</td>\n",
       "    </tr>\n",
       "    <tr>\n",
       "      <th>253317</th>\n",
       "      <td>Apple</td>\n",
       "      <td>iOS</td>\n",
       "      <td>10</td>\n",
       "      <td>3</td>\n",
       "      <td>Apple</td>\n",
       "      <td>Mac OS X</td>\n",
       "      <td>10</td>\n",
       "      <td>12</td>\n",
       "      <td>Apple</td>\n",
       "      <td>Mac OS X</td>\n",
       "      <td>Apple</td>\n",
       "      <td>iOS</td>\n",
       "      <td>Mac OS X 10.12</td>\n",
       "      <td>2c:f0:a2</td>\n",
       "      <td>MAC</td>\n",
       "    </tr>\n",
       "    <tr>\n",
       "      <th>253323</th>\n",
       "      <td>Apple</td>\n",
       "      <td>iOS</td>\n",
       "      <td>10</td>\n",
       "      <td>2</td>\n",
       "      <td>Apple</td>\n",
       "      <td>Mac OS X</td>\n",
       "      <td>10</td>\n",
       "      <td>12</td>\n",
       "      <td>Apple</td>\n",
       "      <td>Mac OS X</td>\n",
       "      <td>Apple</td>\n",
       "      <td>iOS</td>\n",
       "      <td>Mac OS X 10.12</td>\n",
       "      <td>28:5a:eb</td>\n",
       "      <td>MAC</td>\n",
       "    </tr>\n",
       "    <tr>\n",
       "      <th>253356</th>\n",
       "      <td>Apple</td>\n",
       "      <td>iOS</td>\n",
       "      <td>10</td>\n",
       "      <td>3</td>\n",
       "      <td>Apple</td>\n",
       "      <td>Mac OS X</td>\n",
       "      <td>10</td>\n",
       "      <td>12</td>\n",
       "      <td>Apple</td>\n",
       "      <td>Mac OS X</td>\n",
       "      <td>Apple</td>\n",
       "      <td>iOS</td>\n",
       "      <td>Mac OS X 10.12</td>\n",
       "      <td>1c:91:48</td>\n",
       "      <td>MAC</td>\n",
       "    </tr>\n",
       "    <tr>\n",
       "      <th>253368</th>\n",
       "      <td>Google</td>\n",
       "      <td>Android</td>\n",
       "      <td>4</td>\n",
       "      <td>4</td>\n",
       "      <td>Google</td>\n",
       "      <td>Android</td>\n",
       "      <td>4</td>\n",
       "      <td>4</td>\n",
       "      <td>Google</td>\n",
       "      <td>Android</td>\n",
       "      <td>Google</td>\n",
       "      <td>Android</td>\n",
       "      <td>Android 4.4</td>\n",
       "      <td>64:a6:51</td>\n",
       "      <td>Mobile Phone</td>\n",
       "    </tr>\n",
       "    <tr>\n",
       "      <th>253371</th>\n",
       "      <td>Apple</td>\n",
       "      <td>Darwin</td>\n",
       "      <td>15</td>\n",
       "      <td>6</td>\n",
       "      <td>Apple</td>\n",
       "      <td>Mac OS X</td>\n",
       "      <td>10</td>\n",
       "      <td>12</td>\n",
       "      <td>Apple</td>\n",
       "      <td>Mac OS X</td>\n",
       "      <td>Apple</td>\n",
       "      <td>iOS</td>\n",
       "      <td>Mac OS X 10.12</td>\n",
       "      <td>c0:9f:42</td>\n",
       "      <td>MAC</td>\n",
       "    </tr>\n",
       "  </tbody>\n",
       "</table>\n",
       "<p>26902 rows × 15 columns</p>\n",
       "</div>"
      ],
      "text/plain": [
       "       UA_Vendor UA_OS_name  UA_major  UA_minor TCP_Vendor TCP_OS_name  \\\n",
       "5         Google    Android         4         4  Microsoft     Windows   \n",
       "10        Google    Android         4         4     Google     Android   \n",
       "33        Google    Android         4         4  Microsoft     Windows   \n",
       "36         Apple        iOS        10         3      Apple    Mac OS X   \n",
       "91        Google    Android         4         4  Microsoft     Windows   \n",
       "...          ...        ...       ...       ...        ...         ...   \n",
       "253317     Apple        iOS        10         3      Apple    Mac OS X   \n",
       "253323     Apple        iOS        10         2      Apple    Mac OS X   \n",
       "253356     Apple        iOS        10         3      Apple    Mac OS X   \n",
       "253368    Google    Android         4         4     Google     Android   \n",
       "253371     Apple     Darwin        15         6      Apple    Mac OS X   \n",
       "\n",
       "        TCP_major  TCP_minor Domain_Vendor Domain_OS_name DHCP_Vendor  \\\n",
       "5               6          1        Google        Android      Google   \n",
       "10              4          4        Google        Android      Google   \n",
       "33              6          1        Google        Android      Google   \n",
       "36             10         12         Apple       Mac OS X       Apple   \n",
       "91              6          1        Google        Android      Google   \n",
       "...           ...        ...           ...            ...         ...   \n",
       "253317         10         12         Apple       Mac OS X       Apple   \n",
       "253323         10         12         Apple       Mac OS X       Apple   \n",
       "253356         10         12         Apple       Mac OS X       Apple   \n",
       "253368          4          4        Google        Android      Google   \n",
       "253371         10         12         Apple       Mac OS X       Apple   \n",
       "\n",
       "       DHCP_OS_name        Final_OS Mac prefix Device_Category  \n",
       "5           Android     Android 4.4   fc:64:ba              PC  \n",
       "10          Android     Android 4.4   74:04:2b    Mobile Phone  \n",
       "33          Android     Android 4.4   20:55:31              PC  \n",
       "36              iOS  Mac OS X 10.12   28:ed:6a             MAC  \n",
       "91          Android     Android 4.4   64:89:9a              PC  \n",
       "...             ...             ...        ...             ...  \n",
       "253317          iOS  Mac OS X 10.12   2c:f0:a2             MAC  \n",
       "253323          iOS  Mac OS X 10.12   28:5a:eb             MAC  \n",
       "253356          iOS  Mac OS X 10.12   1c:91:48             MAC  \n",
       "253368      Android     Android 4.4   64:a6:51    Mobile Phone  \n",
       "253371          iOS  Mac OS X 10.12   c0:9f:42             MAC  \n",
       "\n",
       "[26902 rows x 15 columns]"
      ]
     },
     "execution_count": 11,
     "metadata": {},
     "output_type": "execute_result"
    }
   ],
   "source": [
    "df_with_no_zeros = new_df[(new_df != 0.0).all(axis=1)]\n",
    "df_with_no_zeros"
   ]
  },
  {
   "cell_type": "code",
   "execution_count": 12,
   "metadata": {},
   "outputs": [
    {
     "data": {
      "text/plain": [
       "Index(['UA_major', 'UA_minor', 'TCP_major', 'TCP_minor'], dtype='object')"
      ]
     },
     "execution_count": 12,
     "metadata": {},
     "output_type": "execute_result"
    }
   ],
   "source": [
    "numerical_columns = df.select_dtypes(include=['int64', 'float64']).columns\n",
    "numerical_columns"
   ]
  },
  {
   "cell_type": "code",
   "execution_count": 13,
   "metadata": {},
   "outputs": [
    {
     "name": "stderr",
     "output_type": "stream",
     "text": [
      "C:\\Users\\Isra\\AppData\\Local\\Temp\\ipykernel_10540\\143798225.py:3: SettingWithCopyWarning: \n",
      "A value is trying to be set on a copy of a slice from a DataFrame.\n",
      "Try using .loc[row_indexer,col_indexer] = value instead\n",
      "\n",
      "See the caveats in the documentation: https://pandas.pydata.org/pandas-docs/stable/user_guide/indexing.html#returning-a-view-versus-a-copy\n",
      "  new_df[column] = new_df[column].replace(0.0, mean_value)\n"
     ]
    }
   ],
   "source": [
    "for column in numerical_columns:\n",
    "    mean_value = new_df[column].mean()\n",
    "    new_df[column] = new_df[column].replace(0.0, mean_value)"
   ]
  },
  {
   "cell_type": "code",
   "execution_count": 14,
   "metadata": {},
   "outputs": [
    {
     "data": {
      "text/plain": [
       "0"
      ]
     },
     "execution_count": 14,
     "metadata": {},
     "output_type": "execute_result"
    }
   ],
   "source": [
    "new_df[new_df[new_df['TCP_minor']==0.0]].value_counts().sum()"
   ]
  },
  {
   "cell_type": "code",
   "execution_count": 15,
   "metadata": {},
   "outputs": [
    {
     "name": "stdout",
     "output_type": "stream",
     "text": [
      "<class 'pandas.core.frame.DataFrame'>\n",
      "Index: 113435 entries, 2 to 253372\n",
      "Data columns (total 15 columns):\n",
      " #   Column           Non-Null Count   Dtype  \n",
      "---  ------           --------------   -----  \n",
      " 0   UA_Vendor        113435 non-null  object \n",
      " 1   UA_OS_name       113435 non-null  object \n",
      " 2   UA_major         113435 non-null  float64\n",
      " 3   UA_minor         113435 non-null  float64\n",
      " 4   TCP_Vendor       113435 non-null  object \n",
      " 5   TCP_OS_name      113435 non-null  object \n",
      " 6   TCP_major        113435 non-null  int64  \n",
      " 7   TCP_minor        113435 non-null  float64\n",
      " 8   Domain_Vendor    113435 non-null  object \n",
      " 9   Domain_OS_name   113435 non-null  object \n",
      " 10  DHCP_Vendor      113435 non-null  object \n",
      " 11  DHCP_OS_name     113435 non-null  object \n",
      " 12  Final_OS         113435 non-null  object \n",
      " 13  Mac prefix       113435 non-null  object \n",
      " 14  Device_Category  113435 non-null  object \n",
      "dtypes: float64(3), int64(1), object(11)\n",
      "memory usage: 13.8+ MB\n"
     ]
    }
   ],
   "source": [
    "new_df.info()"
   ]
  },
  {
   "cell_type": "code",
   "execution_count": 16,
   "metadata": {},
   "outputs": [
    {
     "data": {
      "text/plain": [
       "Index(['UA_Vendor', 'UA_OS_name', 'TCP_Vendor', 'TCP_OS_name', 'Domain_Vendor',\n",
       "       'Domain_OS_name', 'DHCP_Vendor', 'DHCP_OS_name', 'Final_OS',\n",
       "       'Mac prefix', 'Device_Category'],\n",
       "      dtype='object')"
      ]
     },
     "execution_count": 16,
     "metadata": {},
     "output_type": "execute_result"
    }
   ],
   "source": [
    "categorical_columns = new_df.select_dtypes(include=['object']).columns\n",
    "categorical_columns"
   ]
  },
  {
   "cell_type": "code",
   "execution_count": 17,
   "metadata": {},
   "outputs": [
    {
     "data": {
      "text/plain": [
       "Device_Category\n",
       "Mobile Phone    66085\n",
       "MAC             31926\n",
       "PC              15424\n",
       "Name: count, dtype: int64"
      ]
     },
     "execution_count": 17,
     "metadata": {},
     "output_type": "execute_result"
    }
   ],
   "source": [
    "new_df['Device_Category'].value_counts()"
   ]
  },
  {
   "cell_type": "code",
   "execution_count": 18,
   "metadata": {},
   "outputs": [
    {
     "data": {
      "text/plain": [
       "TCP_OS_name\n",
       "Android     66085\n",
       "Mac OS X    31926\n",
       "Windows     15424\n",
       "Name: count, dtype: int64"
      ]
     },
     "execution_count": 18,
     "metadata": {},
     "output_type": "execute_result"
    }
   ],
   "source": [
    "new_df['TCP_OS_name'].value_counts()"
   ]
  },
  {
   "cell_type": "code",
   "execution_count": 19,
   "metadata": {},
   "outputs": [
    {
     "data": {
      "text/plain": [
       "<Axes: xlabel='Device_Category', ylabel='count'>"
      ]
     },
     "execution_count": 19,
     "metadata": {},
     "output_type": "execute_result"
    },
    {
     "data": {
      "image/png": "[encoded data removed]",
      "text/plain": [
       "<Figure size 640x480 with 1 Axes>"
      ]
     },
     "metadata": {},
     "output_type": "display_data"
    }
   ],
   "source": [
    "sns.countplot(x=new_df['Device_Category'], data=new_df)\n"
   ]
  },
  {
   "cell_type": "code",
   "execution_count": 20,
   "metadata": {},
   "outputs": [
    {
     "name": "stderr",
     "output_type": "stream",
     "text": [
      "C:\\Users\\Isra\\AppData\\Local\\Temp\\ipykernel_10540\\1262030906.py:3: SettingWithCopyWarning: \n",
      "A value is trying to be set on a copy of a slice from a DataFrame.\n",
      "Try using .loc[row_indexer,col_indexer] = value instead\n",
      "\n",
      "See the caveats in the documentation: https://pandas.pydata.org/pandas-docs/stable/user_guide/indexing.html#returning-a-view-versus-a-copy\n",
      "  new_df[column] = le.fit_transform(new_df[column])\n",
      "C:\\Users\\Isra\\AppData\\Local\\Temp\\ipykernel_10540\\1262030906.py:3: SettingWithCopyWarning: \n",
      "A value is trying to be set on a copy of a slice from a DataFrame.\n",
      "Try using .loc[row_indexer,col_indexer] = value instead\n",
      "\n",
      "See the caveats in the documentation: https://pandas.pydata.org/pandas-docs/stable/user_guide/indexing.html#returning-a-view-versus-a-copy\n",
      "  new_df[column] = le.fit_transform(new_df[column])\n",
      "C:\\Users\\Isra\\AppData\\Local\\Temp\\ipykernel_10540\\1262030906.py:3: SettingWithCopyWarning: \n",
      "A value is trying to be set on a copy of a slice from a DataFrame.\n",
      "Try using .loc[row_indexer,col_indexer] = value instead\n",
      "\n",
      "See the caveats in the documentation: https://pandas.pydata.org/pandas-docs/stable/user_guide/indexing.html#returning-a-view-versus-a-copy\n",
      "  new_df[column] = le.fit_transform(new_df[column])\n",
      "C:\\Users\\Isra\\AppData\\Local\\Temp\\ipykernel_10540\\1262030906.py:3: SettingWithCopyWarning: \n",
      "A value is trying to be set on a copy of a slice from a DataFrame.\n",
      "Try using .loc[row_indexer,col_indexer] = value instead\n",
      "\n",
      "See the caveats in the documentation: https://pandas.pydata.org/pandas-docs/stable/user_guide/indexing.html#returning-a-view-versus-a-copy\n",
      "  new_df[column] = le.fit_transform(new_df[column])\n",
      "C:\\Users\\Isra\\AppData\\Local\\Temp\\ipykernel_10540\\1262030906.py:3: SettingWithCopyWarning: \n",
      "A value is trying to be set on a copy of a slice from a DataFrame.\n",
      "Try using .loc[row_indexer,col_indexer] = value instead\n",
      "\n",
      "See the caveats in the documentation: https://pandas.pydata.org/pandas-docs/stable/user_guide/indexing.html#returning-a-view-versus-a-copy\n",
      "  new_df[column] = le.fit_transform(new_df[column])\n",
      "C:\\Users\\Isra\\AppData\\Local\\Temp\\ipykernel_10540\\1262030906.py:3: SettingWithCopyWarning: \n",
      "A value is trying to be set on a copy of a slice from a DataFrame.\n",
      "Try using .loc[row_indexer,col_indexer] = value instead\n",
      "\n",
      "See the caveats in the documentation: https://pandas.pydata.org/pandas-docs/stable/user_guide/indexing.html#returning-a-view-versus-a-copy\n",
      "  new_df[column] = le.fit_transform(new_df[column])\n",
      "C:\\Users\\Isra\\AppData\\Local\\Temp\\ipykernel_10540\\1262030906.py:3: SettingWithCopyWarning: \n",
      "A value is trying to be set on a copy of a slice from a DataFrame.\n",
      "Try using .loc[row_indexer,col_indexer] = value instead\n",
      "\n",
      "See the caveats in the documentation: https://pandas.pydata.org/pandas-docs/stable/user_guide/indexing.html#returning-a-view-versus-a-copy\n",
      "  new_df[column] = le.fit_transform(new_df[column])\n",
      "C:\\Users\\Isra\\AppData\\Local\\Temp\\ipykernel_10540\\1262030906.py:3: SettingWithCopyWarning: \n",
      "A value is trying to be set on a copy of a slice from a DataFrame.\n",
      "Try using .loc[row_indexer,col_indexer] = value instead\n",
      "\n",
      "See the caveats in the documentation: https://pandas.pydata.org/pandas-docs/stable/user_guide/indexing.html#returning-a-view-versus-a-copy\n",
      "  new_df[column] = le.fit_transform(new_df[column])\n",
      "C:\\Users\\Isra\\AppData\\Local\\Temp\\ipykernel_10540\\1262030906.py:3: SettingWithCopyWarning: \n",
      "A value is trying to be set on a copy of a slice from a DataFrame.\n",
      "Try using .loc[row_indexer,col_indexer] = value instead\n",
      "\n",
      "See the caveats in the documentation: https://pandas.pydata.org/pandas-docs/stable/user_guide/indexing.html#returning-a-view-versus-a-copy\n",
      "  new_df[column] = le.fit_transform(new_df[column])\n",
      "C:\\Users\\Isra\\AppData\\Local\\Temp\\ipykernel_10540\\1262030906.py:3: SettingWithCopyWarning: \n",
      "A value is trying to be set on a copy of a slice from a DataFrame.\n",
      "Try using .loc[row_indexer,col_indexer] = value instead\n",
      "\n",
      "See the caveats in the documentation: https://pandas.pydata.org/pandas-docs/stable/user_guide/indexing.html#returning-a-view-versus-a-copy\n",
      "  new_df[column] = le.fit_transform(new_df[column])\n",
      "C:\\Users\\Isra\\AppData\\Local\\Temp\\ipykernel_10540\\1262030906.py:3: SettingWithCopyWarning: \n",
      "A value is trying to be set on a copy of a slice from a DataFrame.\n",
      "Try using .loc[row_indexer,col_indexer] = value instead\n",
      "\n",
      "See the caveats in the documentation: https://pandas.pydata.org/pandas-docs/stable/user_guide/indexing.html#returning-a-view-versus-a-copy\n",
      "  new_df[column] = le.fit_transform(new_df[column])\n"
     ]
    }
   ],
   "source": [
    "for column in categorical_columns:\n",
    "    le = LabelEncoder()\n",
    "    new_df[column] = le.fit_transform(new_df[column])"
   ]
  },
  {
   "cell_type": "code",
   "execution_count": 21,
   "metadata": {},
   "outputs": [
    {
     "data": {
      "text/html": [
       "<div>\n",
       "<style scoped>\n",
       "    .dataframe tbody tr th:only-of-type {\n",
       "        vertical-align: middle;\n",
       "    }\n",
       "\n",
       "    .dataframe tbody tr th {\n",
       "        vertical-align: top;\n",
       "    }\n",
       "\n",
       "    .dataframe thead th {\n",
       "        text-align: right;\n",
       "    }\n",
       "</style>\n",
       "<table border=\"1\" class=\"dataframe\">\n",
       "  <thead>\n",
       "    <tr style=\"text-align: right;\">\n",
       "      <th></th>\n",
       "      <th>UA_Vendor</th>\n",
       "      <th>UA_OS_name</th>\n",
       "      <th>UA_major</th>\n",
       "      <th>UA_minor</th>\n",
       "      <th>TCP_Vendor</th>\n",
       "      <th>TCP_OS_name</th>\n",
       "      <th>TCP_major</th>\n",
       "      <th>TCP_minor</th>\n",
       "      <th>Domain_Vendor</th>\n",
       "      <th>Domain_OS_name</th>\n",
       "      <th>DHCP_Vendor</th>\n",
       "      <th>DHCP_OS_name</th>\n",
       "      <th>Final_OS</th>\n",
       "      <th>Mac prefix</th>\n",
       "      <th>Device_Category</th>\n",
       "    </tr>\n",
       "  </thead>\n",
       "  <tbody>\n",
       "    <tr>\n",
       "      <th>2</th>\n",
       "      <td>1</td>\n",
       "      <td>0</td>\n",
       "      <td>5.000000</td>\n",
       "      <td>1.000000</td>\n",
       "      <td>1</td>\n",
       "      <td>0</td>\n",
       "      <td>6</td>\n",
       "      <td>3.538881</td>\n",
       "      <td>1</td>\n",
       "      <td>0</td>\n",
       "      <td>1</td>\n",
       "      <td>0</td>\n",
       "      <td>23</td>\n",
       "      <td>756</td>\n",
       "      <td>1</td>\n",
       "    </tr>\n",
       "    <tr>\n",
       "      <th>5</th>\n",
       "      <td>1</td>\n",
       "      <td>0</td>\n",
       "      <td>4.000000</td>\n",
       "      <td>4.000000</td>\n",
       "      <td>2</td>\n",
       "      <td>2</td>\n",
       "      <td>6</td>\n",
       "      <td>1.000000</td>\n",
       "      <td>1</td>\n",
       "      <td>0</td>\n",
       "      <td>1</td>\n",
       "      <td>0</td>\n",
       "      <td>21</td>\n",
       "      <td>1197</td>\n",
       "      <td>2</td>\n",
       "    </tr>\n",
       "    <tr>\n",
       "      <th>6</th>\n",
       "      <td>1</td>\n",
       "      <td>0</td>\n",
       "      <td>6.000000</td>\n",
       "      <td>1.036867</td>\n",
       "      <td>1</td>\n",
       "      <td>0</td>\n",
       "      <td>6</td>\n",
       "      <td>3.538881</td>\n",
       "      <td>1</td>\n",
       "      <td>0</td>\n",
       "      <td>1</td>\n",
       "      <td>0</td>\n",
       "      <td>25</td>\n",
       "      <td>699</td>\n",
       "      <td>1</td>\n",
       "    </tr>\n",
       "    <tr>\n",
       "      <th>8</th>\n",
       "      <td>1</td>\n",
       "      <td>0</td>\n",
       "      <td>5.000000</td>\n",
       "      <td>1.000000</td>\n",
       "      <td>1</td>\n",
       "      <td>0</td>\n",
       "      <td>6</td>\n",
       "      <td>3.538881</td>\n",
       "      <td>1</td>\n",
       "      <td>0</td>\n",
       "      <td>1</td>\n",
       "      <td>0</td>\n",
       "      <td>23</td>\n",
       "      <td>725</td>\n",
       "      <td>1</td>\n",
       "    </tr>\n",
       "    <tr>\n",
       "      <th>9</th>\n",
       "      <td>0</td>\n",
       "      <td>6</td>\n",
       "      <td>5.376947</td>\n",
       "      <td>1.036867</td>\n",
       "      <td>0</td>\n",
       "      <td>1</td>\n",
       "      <td>10</td>\n",
       "      <td>12.000000</td>\n",
       "      <td>0</td>\n",
       "      <td>2</td>\n",
       "      <td>0</td>\n",
       "      <td>4</td>\n",
       "      <td>54</td>\n",
       "      <td>992</td>\n",
       "      <td>0</td>\n",
       "    </tr>\n",
       "    <tr>\n",
       "      <th>...</th>\n",
       "      <td>...</td>\n",
       "      <td>...</td>\n",
       "      <td>...</td>\n",
       "      <td>...</td>\n",
       "      <td>...</td>\n",
       "      <td>...</td>\n",
       "      <td>...</td>\n",
       "      <td>...</td>\n",
       "      <td>...</td>\n",
       "      <td>...</td>\n",
       "      <td>...</td>\n",
       "      <td>...</td>\n",
       "      <td>...</td>\n",
       "      <td>...</td>\n",
       "      <td>...</td>\n",
       "    </tr>\n",
       "    <tr>\n",
       "      <th>253364</th>\n",
       "      <td>0</td>\n",
       "      <td>6</td>\n",
       "      <td>10.000000</td>\n",
       "      <td>1.036867</td>\n",
       "      <td>0</td>\n",
       "      <td>1</td>\n",
       "      <td>10</td>\n",
       "      <td>12.000000</td>\n",
       "      <td>0</td>\n",
       "      <td>2</td>\n",
       "      <td>0</td>\n",
       "      <td>4</td>\n",
       "      <td>54</td>\n",
       "      <td>901</td>\n",
       "      <td>0</td>\n",
       "    </tr>\n",
       "    <tr>\n",
       "      <th>253365</th>\n",
       "      <td>1</td>\n",
       "      <td>0</td>\n",
       "      <td>5.000000</td>\n",
       "      <td>1.000000</td>\n",
       "      <td>1</td>\n",
       "      <td>0</td>\n",
       "      <td>6</td>\n",
       "      <td>3.538881</td>\n",
       "      <td>1</td>\n",
       "      <td>0</td>\n",
       "      <td>1</td>\n",
       "      <td>0</td>\n",
       "      <td>23</td>\n",
       "      <td>528</td>\n",
       "      <td>1</td>\n",
       "    </tr>\n",
       "    <tr>\n",
       "      <th>253368</th>\n",
       "      <td>1</td>\n",
       "      <td>0</td>\n",
       "      <td>4.000000</td>\n",
       "      <td>4.000000</td>\n",
       "      <td>1</td>\n",
       "      <td>0</td>\n",
       "      <td>4</td>\n",
       "      <td>4.000000</td>\n",
       "      <td>1</td>\n",
       "      <td>0</td>\n",
       "      <td>1</td>\n",
       "      <td>0</td>\n",
       "      <td>21</td>\n",
       "      <td>517</td>\n",
       "      <td>1</td>\n",
       "    </tr>\n",
       "    <tr>\n",
       "      <th>253371</th>\n",
       "      <td>0</td>\n",
       "      <td>2</td>\n",
       "      <td>15.000000</td>\n",
       "      <td>6.000000</td>\n",
       "      <td>0</td>\n",
       "      <td>1</td>\n",
       "      <td>10</td>\n",
       "      <td>12.000000</td>\n",
       "      <td>0</td>\n",
       "      <td>2</td>\n",
       "      <td>0</td>\n",
       "      <td>4</td>\n",
       "      <td>54</td>\n",
       "      <td>946</td>\n",
       "      <td>0</td>\n",
       "    </tr>\n",
       "    <tr>\n",
       "      <th>253372</th>\n",
       "      <td>1</td>\n",
       "      <td>0</td>\n",
       "      <td>5.000000</td>\n",
       "      <td>1.036867</td>\n",
       "      <td>1</td>\n",
       "      <td>0</td>\n",
       "      <td>6</td>\n",
       "      <td>3.538881</td>\n",
       "      <td>1</td>\n",
       "      <td>0</td>\n",
       "      <td>1</td>\n",
       "      <td>0</td>\n",
       "      <td>22</td>\n",
       "      <td>323</td>\n",
       "      <td>1</td>\n",
       "    </tr>\n",
       "  </tbody>\n",
       "</table>\n",
       "<p>113435 rows × 15 columns</p>\n",
       "</div>"
      ],
      "text/plain": [
       "        UA_Vendor  UA_OS_name   UA_major  UA_minor  TCP_Vendor  TCP_OS_name  \\\n",
       "2               1           0   5.000000  1.000000           1            0   \n",
       "5               1           0   4.000000  4.000000           2            2   \n",
       "6               1           0   6.000000  1.036867           1            0   \n",
       "8               1           0   5.000000  1.000000           1            0   \n",
       "9               0           6   5.376947  1.036867           0            1   \n",
       "...           ...         ...        ...       ...         ...          ...   \n",
       "253364          0           6  10.000000  1.036867           0            1   \n",
       "253365          1           0   5.000000  1.000000           1            0   \n",
       "253368          1           0   4.000000  4.000000           1            0   \n",
       "253371          0           2  15.000000  6.000000           0            1   \n",
       "253372          1           0   5.000000  1.036867           1            0   \n",
       "\n",
       "        TCP_major  TCP_minor  Domain_Vendor  Domain_OS_name  DHCP_Vendor  \\\n",
       "2               6   3.538881              1               0            1   \n",
       "5               6   1.000000              1               0            1   \n",
       "6               6   3.538881              1               0            1   \n",
       "8               6   3.538881              1               0            1   \n",
       "9              10  12.000000              0               2            0   \n",
       "...           ...        ...            ...             ...          ...   \n",
       "253364         10  12.000000              0               2            0   \n",
       "253365          6   3.538881              1               0            1   \n",
       "253368          4   4.000000              1               0            1   \n",
       "253371         10  12.000000              0               2            0   \n",
       "253372          6   3.538881              1               0            1   \n",
       "\n",
       "        DHCP_OS_name  Final_OS  Mac prefix  Device_Category  \n",
       "2                  0        23         756                1  \n",
       "5                  0        21        1197                2  \n",
       "6                  0        25         699                1  \n",
       "8                  0        23         725                1  \n",
       "9                  4        54         992                0  \n",
       "...              ...       ...         ...              ...  \n",
       "253364             4        54         901                0  \n",
       "253365             0        23         528                1  \n",
       "253368             0        21         517                1  \n",
       "253371             4        54         946                0  \n",
       "253372             0        22         323                1  \n",
       "\n",
       "[113435 rows x 15 columns]"
      ]
     },
     "execution_count": 21,
     "metadata": {},
     "output_type": "execute_result"
    }
   ],
   "source": [
    "new_df"
   ]
  },
  {
   "cell_type": "code",
   "execution_count": 22,
   "metadata": {},
   "outputs": [],
   "source": [
    "y = new_df['Device_Category']\n",
    "x = new_df.drop(columns=['Device_Category'], inplace = False)"
   ]
  },
  {
   "cell_type": "code",
   "execution_count": 23,
   "metadata": {},
   "outputs": [],
   "source": [
    "x_train, x_test, y_train, y_test = train_test_split(x, y, test_size=0.2, random_state=42, stratify=y)"
   ]
  },
  {
   "cell_type": "markdown",
   "metadata": {},
   "source": [
    "SVM"
   ]
  },
  {
   "cell_type": "code",
   "execution_count": 24,
   "metadata": {},
   "outputs": [
    {
     "data": {
      "text/html": [
       "<style>#sk-container-id-1 {color: black;}#sk-container-id-1 pre{padding: 0;}#sk-container-id-1 div.sk-toggleable {background-color: white;}#sk-container-id-1 label.sk-toggleable__label {cursor: pointer;display: block;width: 100%;margin-bottom: 0;padding: 0.3em;box-sizing: border-box;text-align: center;}#sk-container-id-1 label.sk-toggleable__label-arrow:before {content: \"▸\";float: left;margin-right: 0.25em;color: #696969;}#sk-container-id-1 label.sk-toggleable__label-arrow:hover:before {color: black;}#sk-container-id-1 div.sk-estimator:hover label.sk-toggleable__label-arrow:before {color: black;}#sk-container-id-1 div.sk-toggleable__content {max-height: 0;max-width: 0;overflow: hidden;text-align: left;background-color: #f0f8ff;}#sk-container-id-1 div.sk-toggleable__content pre {margin: 0.2em;color: black;border-radius: 0.25em;background-color: #f0f8ff;}#sk-container-id-1 input.sk-toggleable__control:checked~div.sk-toggleable__content {max-height: 200px;max-width: 100%;overflow: auto;}#sk-container-id-1 input.sk-toggleable__control:checked~label.sk-toggleable__label-arrow:before {content: \"▾\";}#sk-container-id-1 div.sk-estimator input.sk-toggleable__control:checked~label.sk-toggleable__label {background-color: #d4ebff;}#sk-container-id-1 div.sk-label input.sk-toggleable__control:checked~label.sk-toggleable__label {background-color: #d4ebff;}#sk-container-id-1 input.sk-hidden--visually {border: 0;clip: rect(1px 1px 1px 1px);clip: rect(1px, 1px, 1px, 1px);height: 1px;margin: -1px;overflow: hidden;padding: 0;position: absolute;width: 1px;}#sk-container-id-1 div.sk-estimator {font-family: monospace;background-color: #f0f8ff;border: 1px dotted black;border-radius: 0.25em;box-sizing: border-box;margin-bottom: 0.5em;}#sk-container-id-1 div.sk-estimator:hover {background-color: #d4ebff;}#sk-container-id-1 div.sk-parallel-item::after {content: \"\";width: 100%;border-bottom: 1px solid gray;flex-grow: 1;}#sk-container-id-1 div.sk-label:hover label.sk-toggleable__label {background-color: #d4ebff;}#sk-container-id-1 div.sk-serial::before {content: \"\";position: absolute;border-left: 1px solid gray;box-sizing: border-box;top: 0;bottom: 0;left: 50%;z-index: 0;}#sk-container-id-1 div.sk-serial {display: flex;flex-direction: column;align-items: center;background-color: white;padding-right: 0.2em;padding-left: 0.2em;position: relative;}#sk-container-id-1 div.sk-item {position: relative;z-index: 1;}#sk-container-id-1 div.sk-parallel {display: flex;align-items: stretch;justify-content: center;background-color: white;position: relative;}#sk-container-id-1 div.sk-item::before, #sk-container-id-1 div.sk-parallel-item::before {content: \"\";position: absolute;border-left: 1px solid gray;box-sizing: border-box;top: 0;bottom: 0;left: 50%;z-index: -1;}#sk-container-id-1 div.sk-parallel-item {display: flex;flex-direction: column;z-index: 1;position: relative;background-color: white;}#sk-container-id-1 div.sk-parallel-item:first-child::after {align-self: flex-end;width: 50%;}#sk-container-id-1 div.sk-parallel-item:last-child::after {align-self: flex-start;width: 50%;}#sk-container-id-1 div.sk-parallel-item:only-child::after {width: 0;}#sk-container-id-1 div.sk-dashed-wrapped {border: 1px dashed gray;margin: 0 0.4em 0.5em 0.4em;box-sizing: border-box;padding-bottom: 0.4em;background-color: white;}#sk-container-id-1 div.sk-label label {font-family: monospace;font-weight: bold;display: inline-block;line-height: 1.2em;}#sk-container-id-1 div.sk-label-container {text-align: center;}#sk-container-id-1 div.sk-container {/* jupyter's `normalize.less` sets `[hidden] { display: none; }` but bootstrap.min.css set `[hidden] { display: none !important; }` so we also need the `!important` here to be able to override the default hidden behavior on the sphinx rendered scikit-learn.org. See: https://github.com/scikit-learn/scikit-learn/issues/21755 */display: inline-block !important;position: relative;}#sk-container-id-1 div.sk-text-repr-fallback {display: none;}</style><div id=\"sk-container-id-1\" class=\"sk-top-container\"><div class=\"sk-text-repr-fallback\"><pre>SVC()</pre><b>In a Jupyter environment, please rerun this cell to show the HTML representation or trust the notebook. <br />On GitHub, the HTML representation is unable to render, please try loading this page with nbviewer.org.</b></div><div class=\"sk-container\" hidden><div class=\"sk-item\"><div class=\"sk-estimator sk-toggleable\"><input class=\"sk-toggleable__control sk-hidden--visually\" id=\"sk-estimator-id-1\" type=\"checkbox\" checked><label for=\"sk-estimator-id-1\" class=\"sk-toggleable__label sk-toggleable__label-arrow\">SVC</label><div class=\"sk-toggleable__content\"><pre>SVC()</pre></div></div></div></div></div>"
      ],
      "text/plain": [
       "SVC()"
      ]
     },
     "execution_count": 24,
     "metadata": {},
     "output_type": "execute_result"
    }
   ],
   "source": [
    "svm = SVC()\n",
    "svm.fit(x_train, y_train)"
   ]
  },
  {
   "cell_type": "code",
   "execution_count": 25,
   "metadata": {},
   "outputs": [],
   "source": [
    "y_pred_svm = svm.predict(x_test)"
   ]
  },
  {
   "cell_type": "code",
   "execution_count": 26,
   "metadata": {},
   "outputs": [
    {
     "name": "stdout",
     "output_type": "stream",
     "text": [
      "Accuracy: 85.73632476748799\n"
     ]
    }
   ],
   "source": [
    "print(\"Accuracy:\", accuracy_score(y_pred_svm,y_test)*100)"
   ]
  },
  {
   "cell_type": "markdown",
   "metadata": {},
   "source": [
    "Random Forest"
   ]
  },
  {
   "cell_type": "code",
   "execution_count": 27,
   "metadata": {},
   "outputs": [
    {
     "data": {
      "text/html": [
       "<style>#sk-container-id-2 {color: black;}#sk-container-id-2 pre{padding: 0;}#sk-container-id-2 div.sk-toggleable {background-color: white;}#sk-container-id-2 label.sk-toggleable__label {cursor: pointer;display: block;width: 100%;margin-bottom: 0;padding: 0.3em;box-sizing: border-box;text-align: center;}#sk-container-id-2 label.sk-toggleable__label-arrow:before {content: \"▸\";float: left;margin-right: 0.25em;color: #696969;}#sk-container-id-2 label.sk-toggleable__label-arrow:hover:before {color: black;}#sk-container-id-2 div.sk-estimator:hover label.sk-toggleable__label-arrow:before {color: black;}#sk-container-id-2 div.sk-toggleable__content {max-height: 0;max-width: 0;overflow: hidden;text-align: left;background-color: #f0f8ff;}#sk-container-id-2 div.sk-toggleable__content pre {margin: 0.2em;color: black;border-radius: 0.25em;background-color: #f0f8ff;}#sk-container-id-2 input.sk-toggleable__control:checked~div.sk-toggleable__content {max-height: 200px;max-width: 100%;overflow: auto;}#sk-container-id-2 input.sk-toggleable__control:checked~label.sk-toggleable__label-arrow:before {content: \"▾\";}#sk-container-id-2 div.sk-estimator input.sk-toggleable__control:checked~label.sk-toggleable__label {background-color: #d4ebff;}#sk-container-id-2 div.sk-label input.sk-toggleable__control:checked~label.sk-toggleable__label {background-color: #d4ebff;}#sk-container-id-2 input.sk-hidden--visually {border: 0;clip: rect(1px 1px 1px 1px);clip: rect(1px, 1px, 1px, 1px);height: 1px;margin: -1px;overflow: hidden;padding: 0;position: absolute;width: 1px;}#sk-container-id-2 div.sk-estimator {font-family: monospace;background-color: #f0f8ff;border: 1px dotted black;border-radius: 0.25em;box-sizing: border-box;margin-bottom: 0.5em;}#sk-container-id-2 div.sk-estimator:hover {background-color: #d4ebff;}#sk-container-id-2 div.sk-parallel-item::after {content: \"\";width: 100%;border-bottom: 1px solid gray;flex-grow: 1;}#sk-container-id-2 div.sk-label:hover label.sk-toggleable__label {background-color: #d4ebff;}#sk-container-id-2 div.sk-serial::before {content: \"\";position: absolute;border-left: 1px solid gray;box-sizing: border-box;top: 0;bottom: 0;left: 50%;z-index: 0;}#sk-container-id-2 div.sk-serial {display: flex;flex-direction: column;align-items: center;background-color: white;padding-right: 0.2em;padding-left: 0.2em;position: relative;}#sk-container-id-2 div.sk-item {position: relative;z-index: 1;}#sk-container-id-2 div.sk-parallel {display: flex;align-items: stretch;justify-content: center;background-color: white;position: relative;}#sk-container-id-2 div.sk-item::before, #sk-container-id-2 div.sk-parallel-item::before {content: \"\";position: absolute;border-left: 1px solid gray;box-sizing: border-box;top: 0;bottom: 0;left: 50%;z-index: -1;}#sk-container-id-2 div.sk-parallel-item {display: flex;flex-direction: column;z-index: 1;position: relative;background-color: white;}#sk-container-id-2 div.sk-parallel-item:first-child::after {align-self: flex-end;width: 50%;}#sk-container-id-2 div.sk-parallel-item:last-child::after {align-self: flex-start;width: 50%;}#sk-container-id-2 div.sk-parallel-item:only-child::after {width: 0;}#sk-container-id-2 div.sk-dashed-wrapped {border: 1px dashed gray;margin: 0 0.4em 0.5em 0.4em;box-sizing: border-box;padding-bottom: 0.4em;background-color: white;}#sk-container-id-2 div.sk-label label {font-family: monospace;font-weight: bold;display: inline-block;line-height: 1.2em;}#sk-container-id-2 div.sk-label-container {text-align: center;}#sk-container-id-2 div.sk-container {/* jupyter's `normalize.less` sets `[hidden] { display: none; }` but bootstrap.min.css set `[hidden] { display: none !important; }` so we also need the `!important` here to be able to override the default hidden behavior on the sphinx rendered scikit-learn.org. See: https://github.com/scikit-learn/scikit-learn/issues/21755 */display: inline-block !important;position: relative;}#sk-container-id-2 div.sk-text-repr-fallback {display: none;}</style><div id=\"sk-container-id-2\" class=\"sk-top-container\"><div class=\"sk-text-repr-fallback\"><pre>RandomForestClassifier(random_state=42)</pre><b>In a Jupyter environment, please rerun this cell to show the HTML representation or trust the notebook. <br />On GitHub, the HTML representation is unable to render, please try loading this page with nbviewer.org.</b></div><div class=\"sk-container\" hidden><div class=\"sk-item\"><div class=\"sk-estimator sk-toggleable\"><input class=\"sk-toggleable__control sk-hidden--visually\" id=\"sk-estimator-id-2\" type=\"checkbox\" checked><label for=\"sk-estimator-id-2\" class=\"sk-toggleable__label sk-toggleable__label-arrow\">RandomForestClassifier</label><div class=\"sk-toggleable__content\"><pre>RandomForestClassifier(random_state=42)</pre></div></div></div></div></div>"
      ],
      "text/plain": [
       "RandomForestClassifier(random_state=42)"
      ]
     },
     "execution_count": 27,
     "metadata": {},
     "output_type": "execute_result"
    }
   ],
   "source": [
    "# Create the RandomForestClassifier\n",
    "model = RandomForestClassifier(n_estimators=100, random_state=42)\n",
    "\n",
    "# Train the model\n",
    "model.fit(x_train, y_train)"
   ]
  },
  {
   "cell_type": "code",
   "execution_count": 28,
   "metadata": {},
   "outputs": [
    {
     "name": "stdout",
     "output_type": "stream",
     "text": [
      "Accuracy : 100.0\n"
     ]
    }
   ],
   "source": [
    "y_pred1 = model.predict(x_test)\n",
    "score = accuracy_score(y_test, y_pred1) # actual answer was Y_test and calculated answer was y_pred. we compare both for accuracy\n",
    "accuracy = score*100\n",
    "print('Accuracy :',accuracy)"
   ]
  },
  {
   "cell_type": "code",
   "execution_count": 29,
   "metadata": {},
   "outputs": [
    {
     "name": "stdout",
     "output_type": "stream",
     "text": [
      "Confusion Matrix\n",
      "[[ 6385     0     0]\n",
      " [    0 13217     0]\n",
      " [    0     0  3085]]\n"
     ]
    },
    {
     "data": {
      "image/png": "[encoded data removed]",
      "text/plain": [
       "<Figure size 600x400 with 1 Axes>"
      ]
     },
     "metadata": {},
     "output_type": "display_data"
    }
   ],
   "source": [
    "from sklearn.metrics import confusion_matrix\n",
    "\n",
    "# PRINT THE CONFUSION MATRIX\n",
    "print(\"Confusion Matrix\")\n",
    "cm = confusion_matrix(y_test, y_pred1)\n",
    "print(cm)\n",
    "plt.figure(figsize = (6, 4))\n",
    "sns.heatmap(cm, annot = True, fmt = 'd', cmap = 'Blues', cbar = False, annot_kws = {'size' : 14})\n",
    "plt.xlabel('Predicted Labels', fontsize = 14)\n",
    "plt.ylabel('True Labels', fontsize = 14)\n",
    "plt.title('Confusion Matrix', fontsize =16)\n",
    "plt.show()\n"
   ]
  },
  {
   "cell_type": "markdown",
   "metadata": {},
   "source": [
    "Logistic Regression"
   ]
  },
  {
   "cell_type": "code",
   "execution_count": 30,
   "metadata": {},
   "outputs": [
    {
     "name": "stderr",
     "output_type": "stream",
     "text": [
      "c:\\Users\\Isra\\AppData\\Local\\Programs\\Python\\Python38\\lib\\site-packages\\sklearn\\linear_model\\_logistic.py:460: ConvergenceWarning: lbfgs failed to converge (status=1):\n",
      "STOP: TOTAL NO. of ITERATIONS REACHED LIMIT.\n",
      "\n",
      "Increase the number of iterations (max_iter) or scale the data as shown in:\n",
      "    https://scikit-learn.org/stable/modules/preprocessing.html\n",
      "Please also refer to the documentation for alternative solver options:\n",
      "    https://scikit-learn.org/stable/modules/linear_model.html#logistic-regression\n",
      "  n_iter_i = _check_optimize_result(\n"
     ]
    },
    {
     "data": {
      "text/html": [
       "<style>#sk-container-id-3 {color: black;}#sk-container-id-3 pre{padding: 0;}#sk-container-id-3 div.sk-toggleable {background-color: white;}#sk-container-id-3 label.sk-toggleable__label {cursor: pointer;display: block;width: 100%;margin-bottom: 0;padding: 0.3em;box-sizing: border-box;text-align: center;}#sk-container-id-3 label.sk-toggleable__label-arrow:before {content: \"▸\";float: left;margin-right: 0.25em;color: #696969;}#sk-container-id-3 label.sk-toggleable__label-arrow:hover:before {color: black;}#sk-container-id-3 div.sk-estimator:hover label.sk-toggleable__label-arrow:before {color: black;}#sk-container-id-3 div.sk-toggleable__content {max-height: 0;max-width: 0;overflow: hidden;text-align: left;background-color: #f0f8ff;}#sk-container-id-3 div.sk-toggleable__content pre {margin: 0.2em;color: black;border-radius: 0.25em;background-color: #f0f8ff;}#sk-container-id-3 input.sk-toggleable__control:checked~div.sk-toggleable__content {max-height: 200px;max-width: 100%;overflow: auto;}#sk-container-id-3 input.sk-toggleable__control:checked~label.sk-toggleable__label-arrow:before {content: \"▾\";}#sk-container-id-3 div.sk-estimator input.sk-toggleable__control:checked~label.sk-toggleable__label {background-color: #d4ebff;}#sk-container-id-3 div.sk-label input.sk-toggleable__control:checked~label.sk-toggleable__label {background-color: #d4ebff;}#sk-container-id-3 input.sk-hidden--visually {border: 0;clip: rect(1px 1px 1px 1px);clip: rect(1px, 1px, 1px, 1px);height: 1px;margin: -1px;overflow: hidden;padding: 0;position: absolute;width: 1px;}#sk-container-id-3 div.sk-estimator {font-family: monospace;background-color: #f0f8ff;border: 1px dotted black;border-radius: 0.25em;box-sizing: border-box;margin-bottom: 0.5em;}#sk-container-id-3 div.sk-estimator:hover {background-color: #d4ebff;}#sk-container-id-3 div.sk-parallel-item::after {content: \"\";width: 100%;border-bottom: 1px solid gray;flex-grow: 1;}#sk-container-id-3 div.sk-label:hover label.sk-toggleable__label {background-color: #d4ebff;}#sk-container-id-3 div.sk-serial::before {content: \"\";position: absolute;border-left: 1px solid gray;box-sizing: border-box;top: 0;bottom: 0;left: 50%;z-index: 0;}#sk-container-id-3 div.sk-serial {display: flex;flex-direction: column;align-items: center;background-color: white;padding-right: 0.2em;padding-left: 0.2em;position: relative;}#sk-container-id-3 div.sk-item {position: relative;z-index: 1;}#sk-container-id-3 div.sk-parallel {display: flex;align-items: stretch;justify-content: center;background-color: white;position: relative;}#sk-container-id-3 div.sk-item::before, #sk-container-id-3 div.sk-parallel-item::before {content: \"\";position: absolute;border-left: 1px solid gray;box-sizing: border-box;top: 0;bottom: 0;left: 50%;z-index: -1;}#sk-container-id-3 div.sk-parallel-item {display: flex;flex-direction: column;z-index: 1;position: relative;background-color: white;}#sk-container-id-3 div.sk-parallel-item:first-child::after {align-self: flex-end;width: 50%;}#sk-container-id-3 div.sk-parallel-item:last-child::after {align-self: flex-start;width: 50%;}#sk-container-id-3 div.sk-parallel-item:only-child::after {width: 0;}#sk-container-id-3 div.sk-dashed-wrapped {border: 1px dashed gray;margin: 0 0.4em 0.5em 0.4em;box-sizing: border-box;padding-bottom: 0.4em;background-color: white;}#sk-container-id-3 div.sk-label label {font-family: monospace;font-weight: bold;display: inline-block;line-height: 1.2em;}#sk-container-id-3 div.sk-label-container {text-align: center;}#sk-container-id-3 div.sk-container {/* jupyter's `normalize.less` sets `[hidden] { display: none; }` but bootstrap.min.css set `[hidden] { display: none !important; }` so we also need the `!important` here to be able to override the default hidden behavior on the sphinx rendered scikit-learn.org. See: https://github.com/scikit-learn/scikit-learn/issues/21755 */display: inline-block !important;position: relative;}#sk-container-id-3 div.sk-text-repr-fallback {display: none;}</style><div id=\"sk-container-id-3\" class=\"sk-top-container\"><div class=\"sk-text-repr-fallback\"><pre>LogisticRegression()</pre><b>In a Jupyter environment, please rerun this cell to show the HTML representation or trust the notebook. <br />On GitHub, the HTML representation is unable to render, please try loading this page with nbviewer.org.</b></div><div class=\"sk-container\" hidden><div class=\"sk-item\"><div class=\"sk-estimator sk-toggleable\"><input class=\"sk-toggleable__control sk-hidden--visually\" id=\"sk-estimator-id-3\" type=\"checkbox\" checked><label for=\"sk-estimator-id-3\" class=\"sk-toggleable__label sk-toggleable__label-arrow\">LogisticRegression</label><div class=\"sk-toggleable__content\"><pre>LogisticRegression()</pre></div></div></div></div></div>"
      ],
      "text/plain": [
       "LogisticRegression()"
      ]
     },
     "execution_count": 30,
     "metadata": {},
     "output_type": "execute_result"
    }
   ],
   "source": [
    "model1 = LogisticRegression()\n",
    "model1.fit(x_train, y_train)\n"
   ]
  },
  {
   "cell_type": "code",
   "execution_count": 31,
   "metadata": {},
   "outputs": [
    {
     "name": "stdout",
     "output_type": "stream",
     "text": [
      "Accuracy: 99.91625159783136\n"
     ]
    }
   ],
   "source": [
    "y_pred2 = model1.predict(x_test)\n",
    "score = accuracy_score(y_test, y_pred2) # actual answer was Y_test and calculated answer was y_pred. we compare both for accuracy\n",
    "accuracy = score*100\n",
    "print(\"Accuracy:\",accuracy)"
   ]
  },
  {
   "cell_type": "code",
   "execution_count": 33,
   "metadata": {},
   "outputs": [
    {
     "name": "stdout",
     "output_type": "stream",
     "text": [
      "Classification Report:\n",
      "              precision    recall  f1-score   support\n",
      "\n",
      "           0       0.94      0.98      0.96      6385\n",
      "           1       0.82      1.00      0.90     13217\n",
      "           2       0.00      0.00      0.00      3085\n",
      "\n",
      "    accuracy                           0.86     22687\n",
      "   macro avg       0.59      0.66      0.62     22687\n",
      "weighted avg       0.74      0.86      0.80     22687\n",
      "\n",
      "Confusion Matrix:\n",
      "[[ 6234   151     0]\n",
      " [    0 13217     0]\n",
      " [  399  2686     0]]\n"
     ]
    },
    {
     "name": "stderr",
     "output_type": "stream",
     "text": [
      "c:\\Users\\Isra\\AppData\\Local\\Programs\\Python\\Python38\\lib\\site-packages\\sklearn\\metrics\\_classification.py:1469: UndefinedMetricWarning: Precision and F-score are ill-defined and being set to 0.0 in labels with no predicted samples. Use `zero_division` parameter to control this behavior.\n",
      "  _warn_prf(average, modifier, msg_start, len(result))\n",
      "c:\\Users\\Isra\\AppData\\Local\\Programs\\Python\\Python38\\lib\\site-packages\\sklearn\\metrics\\_classification.py:1469: UndefinedMetricWarning: Precision and F-score are ill-defined and being set to 0.0 in labels with no predicted samples. Use `zero_division` parameter to control this behavior.\n",
      "  _warn_prf(average, modifier, msg_start, len(result))\n",
      "c:\\Users\\Isra\\AppData\\Local\\Programs\\Python\\Python38\\lib\\site-packages\\sklearn\\metrics\\_classification.py:1469: UndefinedMetricWarning: Precision and F-score are ill-defined and being set to 0.0 in labels with no predicted samples. Use `zero_division` parameter to control this behavior.\n",
      "  _warn_prf(average, modifier, msg_start, len(result))\n"
     ]
    }
   ],
   "source": [
    "from sklearn.metrics import classification_report\n",
    "\n",
    "print(\"Classification Report:\")\n",
    "print(classification_report(y_test, y_pred_svm))\n",
    "\n",
    "print(\"Confusion Matrix:\")\n",
    "print(confusion_matrix(y_test, y_pred_svm))\n"
   ]
  },
  {
   "cell_type": "code",
   "execution_count": 34,
   "metadata": {},
   "outputs": [
    {
     "data": {
      "text/plain": [
       "['svm_model.pkl']"
      ]
     },
     "execution_count": 34,
     "metadata": {},
     "output_type": "execute_result"
    }
   ],
   "source": [
    "file_path = \"svm_model.pkl\"\n",
    "joblib.dump(svm, file_path)"
   ]
  }
 ],
 "metadata": {
  "kernelspec": {
   "display_name": "base",
   "language": "python",
   "name": "python3"
  },
  "language_info": {
   "codemirror_mode": {
    "name": "ipython",
    "version": 3
   },
   "file_extension": ".py",
   "mimetype": "text/x-python",
   "name": "python",
   "nbconvert_exporter": "python",
   "pygments_lexer": "ipython3",
   "version": "3.8.6rc1"
  }
 },
 "nbformat": 4,
 "nbformat_minor": 2
}
