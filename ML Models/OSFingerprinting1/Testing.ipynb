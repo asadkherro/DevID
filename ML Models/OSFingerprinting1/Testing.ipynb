{
 "cells": [
  {
   "cell_type": "code",
   "execution_count": 23,
   "metadata": {},
   "outputs": [],
   "source": [
    "#LIBRARIES\n",
    "import pandas as pd  ## data manipulation\n",
    "import numpy as np  ## mathematical Calculations\n",
    "\n",
    "import seaborn as sns   ## for advance visualization\n",
    "import matplotlib.pyplot as plt   ## for visualization\n",
    "\n",
    "import scipy as sp\n",
    "import os\n",
    "\n",
    "from matplotlib import figure\n",
    "\n",
    "## preprocessing modules\n",
    "from sklearn.model_selection import train_test_split\n",
    "from sklearn.preprocessing import StandardScaler  ### for scaling\n",
    "from sklearn.metrics import accuracy_score\n",
    "from sklearn.preprocessing import LabelEncoder  ### for converting categorical values in numerical\n",
    "from sklearn.ensemble import RandomForestClassifier\n",
    "from sklearn.svm import SVC\n",
    "from sklearn.linear_model import LogisticRegression\n",
    "\n",
    "import joblib"
   ]
  },
  {
   "cell_type": "code",
   "execution_count": 24,
   "metadata": {},
   "outputs": [],
   "source": [
    "file_path = \"svm_model.pkl\"\n",
    "svm_model = joblib.load(file_path)"
   ]
  },
  {
   "cell_type": "code",
   "execution_count": 25,
   "metadata": {},
   "outputs": [
    {
     "data": {
      "text/html": [
       "<div>\n",
       "<style scoped>\n",
       "    .dataframe tbody tr th:only-of-type {\n",
       "        vertical-align: middle;\n",
       "    }\n",
       "\n",
       "    .dataframe tbody tr th {\n",
       "        vertical-align: top;\n",
       "    }\n",
       "\n",
       "    .dataframe thead th {\n",
       "        text-align: right;\n",
       "    }\n",
       "</style>\n",
       "<table border=\"1\" class=\"dataframe\">\n",
       "  <thead>\n",
       "    <tr style=\"text-align: right;\">\n",
       "      <th></th>\n",
       "      <th>UA_Vendor</th>\n",
       "      <th>UA_OS_name</th>\n",
       "      <th>UA_major</th>\n",
       "      <th>UA_minor</th>\n",
       "      <th>TCP_Vendor</th>\n",
       "      <th>TCP_OS_name</th>\n",
       "      <th>TCP_major</th>\n",
       "      <th>TCP_minor</th>\n",
       "      <th>Domain_Vendor</th>\n",
       "      <th>Domain_OS_name</th>\n",
       "      <th>DHCP_Vendor</th>\n",
       "      <th>DHCP_OS_name</th>\n",
       "      <th>Final_OS</th>\n",
       "      <th>Mac prefix</th>\n",
       "    </tr>\n",
       "  </thead>\n",
       "  <tbody>\n",
       "    <tr>\n",
       "      <th>0</th>\n",
       "      <td>Infinix</td>\n",
       "      <td>Android</td>\n",
       "      <td>234</td>\n",
       "      <td>123</td>\n",
       "      <td>Infinix</td>\n",
       "      <td>Android</td>\n",
       "      <td>123</td>\n",
       "      <td>1</td>\n",
       "      <td>Infinix</td>\n",
       "      <td>Android</td>\n",
       "      <td>Infinix</td>\n",
       "      <td>Android</td>\n",
       "      <td>Android 3.1</td>\n",
       "      <td>14:7z:91</td>\n",
       "    </tr>\n",
       "    <tr>\n",
       "      <th>1</th>\n",
       "      <td>Google</td>\n",
       "      <td>Android</td>\n",
       "      <td>5</td>\n",
       "      <td>1</td>\n",
       "      <td>Google</td>\n",
       "      <td>Android</td>\n",
       "      <td>6</td>\n",
       "      <td>7</td>\n",
       "      <td>Google</td>\n",
       "      <td>Android</td>\n",
       "      <td>Google</td>\n",
       "      <td>Android</td>\n",
       "      <td>Android 5.1</td>\n",
       "      <td>90:21:81</td>\n",
       "    </tr>\n",
       "  </tbody>\n",
       "</table>\n",
       "</div>"
      ],
      "text/plain": [
       "  UA_Vendor UA_OS_name  UA_major  UA_minor TCP_Vendor TCP_OS_name  TCP_major  \\\n",
       "0   Infinix    Android       234       123    Infinix     Android        123   \n",
       "1    Google    Android         5         1     Google     Android          6   \n",
       "\n",
       "   TCP_minor Domain_Vendor Domain_OS_name DHCP_Vendor DHCP_OS_name  \\\n",
       "0          1       Infinix        Android     Infinix      Android   \n",
       "1          7        Google        Android      Google      Android   \n",
       "\n",
       "      Final_OS Mac prefix  \n",
       "0  Android 3.1   14:7z:91  \n",
       "1  Android 5.1   90:21:81  "
      ]
     },
     "execution_count": 25,
     "metadata": {},
     "output_type": "execute_result"
    }
   ],
   "source": [
    "df = pd.read_csv(\"test.csv\")\n",
    "df.drop(columns=[\"ID\", 'start', 'end', 'IP', 'Unnamed: 18', 'Device_Category'], axis=1, inplace=True)\n",
    "df"
   ]
  },
  {
   "cell_type": "code",
   "execution_count": 26,
   "metadata": {},
   "outputs": [
    {
     "data": {
      "text/plain": [
       "Index(['UA_Vendor', 'UA_OS_name', 'TCP_Vendor', 'TCP_OS_name', 'Domain_Vendor',\n",
       "       'Domain_OS_name', 'DHCP_Vendor', 'DHCP_OS_name', 'Final_OS',\n",
       "       'Mac prefix'],\n",
       "      dtype='object')"
      ]
     },
     "execution_count": 26,
     "metadata": {},
     "output_type": "execute_result"
    }
   ],
   "source": [
    "categorical_columns = df.select_dtypes(include=['object']).columns\n",
    "categorical_columns"
   ]
  },
  {
   "cell_type": "code",
   "execution_count": 27,
   "metadata": {},
   "outputs": [
    {
     "data": {
      "text/html": [
       "<div>\n",
       "<style scoped>\n",
       "    .dataframe tbody tr th:only-of-type {\n",
       "        vertical-align: middle;\n",
       "    }\n",
       "\n",
       "    .dataframe tbody tr th {\n",
       "        vertical-align: top;\n",
       "    }\n",
       "\n",
       "    .dataframe thead th {\n",
       "        text-align: right;\n",
       "    }\n",
       "</style>\n",
       "<table border=\"1\" class=\"dataframe\">\n",
       "  <thead>\n",
       "    <tr style=\"text-align: right;\">\n",
       "      <th></th>\n",
       "      <th>UA_Vendor</th>\n",
       "      <th>UA_OS_name</th>\n",
       "      <th>UA_major</th>\n",
       "      <th>UA_minor</th>\n",
       "      <th>TCP_Vendor</th>\n",
       "      <th>TCP_OS_name</th>\n",
       "      <th>TCP_major</th>\n",
       "      <th>TCP_minor</th>\n",
       "      <th>Domain_Vendor</th>\n",
       "      <th>Domain_OS_name</th>\n",
       "      <th>DHCP_Vendor</th>\n",
       "      <th>DHCP_OS_name</th>\n",
       "      <th>Final_OS</th>\n",
       "      <th>Mac prefix</th>\n",
       "    </tr>\n",
       "  </thead>\n",
       "  <tbody>\n",
       "    <tr>\n",
       "      <th>0</th>\n",
       "      <td>1</td>\n",
       "      <td>0</td>\n",
       "      <td>234</td>\n",
       "      <td>123</td>\n",
       "      <td>1</td>\n",
       "      <td>0</td>\n",
       "      <td>123</td>\n",
       "      <td>1</td>\n",
       "      <td>1</td>\n",
       "      <td>0</td>\n",
       "      <td>1</td>\n",
       "      <td>0</td>\n",
       "      <td>0</td>\n",
       "      <td>0</td>\n",
       "    </tr>\n",
       "    <tr>\n",
       "      <th>1</th>\n",
       "      <td>0</td>\n",
       "      <td>0</td>\n",
       "      <td>5</td>\n",
       "      <td>1</td>\n",
       "      <td>0</td>\n",
       "      <td>0</td>\n",
       "      <td>6</td>\n",
       "      <td>7</td>\n",
       "      <td>0</td>\n",
       "      <td>0</td>\n",
       "      <td>0</td>\n",
       "      <td>0</td>\n",
       "      <td>1</td>\n",
       "      <td>1</td>\n",
       "    </tr>\n",
       "  </tbody>\n",
       "</table>\n",
       "</div>"
      ],
      "text/plain": [
       "   UA_Vendor  UA_OS_name  UA_major  UA_minor  TCP_Vendor  TCP_OS_name  \\\n",
       "0          1           0       234       123           1            0   \n",
       "1          0           0         5         1           0            0   \n",
       "\n",
       "   TCP_major  TCP_minor  Domain_Vendor  Domain_OS_name  DHCP_Vendor  \\\n",
       "0        123          1              1               0            1   \n",
       "1          6          7              0               0            0   \n",
       "\n",
       "   DHCP_OS_name  Final_OS  Mac prefix  \n",
       "0             0         0           0  \n",
       "1             0         1           1  "
      ]
     },
     "execution_count": 27,
     "metadata": {},
     "output_type": "execute_result"
    }
   ],
   "source": [
    "for column in categorical_columns:\n",
    "    le = LabelEncoder()\n",
    "    df[column] = le.fit_transform(df[column])\n",
    "df"
   ]
  },
  {
   "cell_type": "code",
   "execution_count": 28,
   "metadata": {},
   "outputs": [
    {
     "name": "stdout",
     "output_type": "stream",
     "text": [
      "[0 1]\n"
     ]
    }
   ],
   "source": [
    "predictions = svm_model.predict(df)\n",
    "print(predictions)"
   ]
  },
  {
   "cell_type": "code",
   "execution_count": null,
   "metadata": {},
   "outputs": [],
   "source": []
  },
  {
   "cell_type": "code",
   "execution_count": null,
   "metadata": {},
   "outputs": [],
   "source": []
  }
 ],
 "metadata": {
  "kernelspec": {
   "display_name": "base",
   "language": "python",
   "name": "python3"
  },
  "language_info": {
   "codemirror_mode": {
    "name": "ipython",
    "version": 3
   },
   "file_extension": ".py",
   "mimetype": "text/x-python",
   "name": "python",
   "nbconvert_exporter": "python",
   "pygments_lexer": "ipython3",
   "version": "3.11.5"
  }
 },
 "nbformat": 4,
 "nbformat_minor": 2
}
